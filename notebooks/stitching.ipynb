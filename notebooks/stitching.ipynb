{
 "cells": [
  {
   "cell_type": "code",
   "execution_count": 3,
   "metadata": {},
   "outputs": [],
   "source": [
    "YOUR_XI_API_KEY= \"sk_0a99c15fa7b516478a5968c574569af3e2061e6458796631\""
   ]
  },
  {
   "cell_type": "code",
   "execution_count": 7,
   "metadata": {},
   "outputs": [
    {
     "name": "stdout",
     "output_type": "stream",
     "text": [
      "Successfully converted paragraph 1/4\n",
      "Successfully converted paragraph 2/4\n",
      "Successfully converted paragraph 3/4\n",
      "Successfully converted paragraph 4/4\n",
      "Success! Wrote audio to /Users/lyndon/Documents/elevenlabs_hackathon/present-ai-elevenlabs/notebooks/with_text_conditioning.wav\n"
     ]
    }
   ],
   "source": [
    "import os\n",
    "import requests\n",
    "from pydub import AudioSegment\n",
    "import io\n",
    "\n",
    "# YOUR_XI_API_KEY = \"<insert your xi-api-key here>\"\n",
    "VOICE_ID = \"21m00Tcm4TlvDq8ikWAM\"  # Rachel\n",
    "PARAGRAPHS = [\n",
    "    \"The advent of technology has transformed countless sectors, with education \"\n",
    "    \"standing out as one of the most significantly impacted fields.\",\n",
    "    \"In recent years, educational technology, or EdTech, has revolutionized the way \"\n",
    "    \"teachers deliver instruction and students absorb information.\",\n",
    "    \"From interactive whiteboards to individual tablets loaded with educational software, \"\n",
    "    \"technology has opened up new avenues for learning that were previously unimaginable.\",\n",
    "    \"One of the primary benefits of technology in education is the accessibility it provides.\",\n",
    "]\n",
    "segments = []\n",
    "\n",
    "for i, paragraph in enumerate(PARAGRAPHS):\n",
    "    is_last_paragraph = i == len(PARAGRAPHS) - 1\n",
    "    is_first_paragraph = i == 0\n",
    "    response = requests.post(\n",
    "        f\"https://api.elevenlabs.io/v1/text-to-speech/{VOICE_ID}/stream\",\n",
    "        json={\n",
    "            \"text\": paragraph,\n",
    "            \"model_id\": \"eleven_multilingual_v2\",\n",
    "            \"previous_text\": None if is_first_paragraph else \" \".join(PARAGRAPHS[:i]),\n",
    "            \"next_text\": None if is_last_paragraph else \" \".join(PARAGRAPHS[i + 1:])\n",
    "        },\n",
    "        headers={\"xi-api-key\": YOUR_XI_API_KEY},\n",
    "    )\n",
    "\n",
    "    if response.status_code != 200:\n",
    "        print(f\"Error encountered, status: {response.status_code}, \"\n",
    "               f\"content: {response.text}\")\n",
    "        quit()\n",
    "\n",
    "    print(f\"Successfully converted paragraph {i + 1}/{len(PARAGRAPHS)}\")\n",
    "    segments.append(AudioSegment.from_mp3(io.BytesIO(response.content)))\n",
    "\n",
    "# segment = segments[0]\n",
    "# for new_segment in segments[1:]:\n",
    "#     segment = segment + new_segment\n",
    "\n",
    "# audio_out_path = os.path.join(os.getcwd(), \"with_text_conditioning.wav\")\n",
    "# segment.export(audio_out_path, format=\"wav\")\n",
    "\n",
    "print(f\"Success! Wrote audio to {audio_out_path}\")\n"
   ]
  },
  {
   "cell_type": "code",
   "execution_count": null,
   "metadata": {},
   "outputs": [],
   "source": []
  }
 ],
 "metadata": {
  "kernelspec": {
   "display_name": "elevenlabs",
   "language": "python",
   "name": "python3"
  },
  "language_info": {
   "codemirror_mode": {
    "name": "ipython",
    "version": 3
   },
   "file_extension": ".py",
   "mimetype": "text/x-python",
   "name": "python",
   "nbconvert_exporter": "python",
   "pygments_lexer": "ipython3",
   "version": "3.11.11"
  }
 },
 "nbformat": 4,
 "nbformat_minor": 2
}
