{
 "cells": [
  {
   "cell_type": "code",
   "execution_count": 1,
   "metadata": {},
   "outputs": [
    {
     "data": {
      "text/plain": [
       "True"
      ]
     },
     "execution_count": 1,
     "metadata": {},
     "output_type": "execute_result"
    }
   ],
   "source": [
    "import dotenv\n",
    "import os\n",
    "import requests\n",
    "from pydub import AudioSegment\n",
    "import io\n",
    "import json\n",
    "dotenv.load_dotenv()"
   ]
  },
  {
   "cell_type": "code",
   "execution_count": 8,
   "metadata": {},
   "outputs": [],
   "source": [
    "YOUR_XI_API_KEY = os.getenv(\"YOUR_XI_API_KEY\")"
   ]
  },
  {
   "cell_type": "code",
   "execution_count": 7,
   "metadata": {},
   "outputs": [
    {
     "name": "stdout",
     "output_type": "stream",
     "text": [
      "Welcome everyone! Today we're going to dive into a fascinating but often misunderstood trio of conditions: Catatonia, Neuroleptic Malignant Syndrome, and Serotonin Syndrome. These are conditions that every clinician needs to know about, as they can be life-threatening if not recognized and treated promptly. I'm Dr. Celano, and I'll be guiding you through this important topic.\n",
      "Successfully converted paragraph 1/25\n",
      "Successfully converted paragraph 2/25\n",
      "Successfully converted paragraph 3/25\n",
      "Successfully converted paragraph 4/25\n",
      "Successfully converted paragraph 5/25\n",
      "Successfully converted paragraph 6/25\n",
      "Successfully converted paragraph 7/25\n",
      "Successfully converted paragraph 8/25\n",
      "Successfully converted paragraph 9/25\n",
      "Successfully converted paragraph 10/25\n",
      "Successfully converted paragraph 11/25\n",
      "Successfully converted paragraph 12/25\n",
      "Successfully converted paragraph 13/25\n",
      "Successfully converted paragraph 14/25\n",
      "Successfully converted paragraph 15/25\n",
      "Successfully converted paragraph 16/25\n",
      "Successfully converted paragraph 17/25\n",
      "Successfully converted paragraph 18/25\n",
      "Successfully converted paragraph 19/25\n",
      "Successfully converted paragraph 20/25\n",
      "Successfully converted paragraph 21/25\n",
      "Successfully converted paragraph 22/25\n",
      "Successfully converted paragraph 23/25\n",
      "Successfully converted paragraph 24/25\n",
      "Successfully converted paragraph 25/25\n",
      "Success! Wrote audio to /Users/lyndon/Documents/elevenlabs_hackathon/present-ai-elevenlabs/notebooks/with_text_conditioning.wav\n"
     ]
    }
   ],
   "source": [
    "\n",
    "\n",
    "# Load the script.json file\n",
    "with open('script.json', 'r') as f:\n",
    "    script_data = json.load(f)\n",
    "\n",
    "# Extract all scripts from the slides, excluding any with should_skip=true\n",
    "PARAGRAPHS = [\n",
    "    slide['script'] \n",
    "    for slide in script_data['slides'] \n",
    "    if not slide.get('should_skip', False)\n",
    "]\n",
    "print(PARAGRAPHS[0])\n",
    "# YOUR_XI_API_KEY = \"<insert your xi-api-key here>\"\n",
    "VOICE_ID = \"JBFqnCBsd6RMkjVDRZzb\"  # dude from api reference\n",
    "# PARAGRAPHS = [\n",
    "#     \"The advent of technology has transformed countless sectors, with education \"\n",
    "#     \"standing out as one of the most significantly impacted fields.\",\n",
    "#     \"In recent years, educational technology, or EdTech, has revolutionized the way \"\n",
    "#     \"teachers deliver instruction and students absorb information.\",\n",
    "#     \"From interactive whiteboards to individual tablets loaded with educational software, \"\n",
    "#     \"technology has opened up new avenues for learning that were previously unimaginable.\",\n",
    "#     \"One of the primary benefits of technology in education is the accessibility it provides.\",\n",
    "# ]\n",
    "segments = []\n",
    "\n",
    "for i, paragraph in enumerate(PARAGRAPHS):\n",
    "    is_last_paragraph = i == len(PARAGRAPHS) - 1\n",
    "    is_first_paragraph = i == 0\n",
    "    response = requests.post(\n",
    "        f\"https://api.elevenlabs.io/v1/text-to-speech/{VOICE_ID}/stream\",\n",
    "        json={\n",
    "            \"text\": paragraph,\n",
    "            \"model_id\": \"eleven_multilingual_v2\",\n",
    "            \"previous_text\": None if is_first_paragraph else \" \".join(PARAGRAPHS[:i]),\n",
    "            \"next_text\": None if is_last_paragraph else \" \".join(PARAGRAPHS[i + 1:])\n",
    "        },\n",
    "        headers={\"xi-api-key\": YOUR_XI_API_KEY},\n",
    "    )\n",
    "\n",
    "    if response.status_code != 200:\n",
    "        print(f\"Error encountered, status: {response.status_code}, \"\n",
    "               f\"content: {response.text}\")\n",
    "        quit()\n",
    "\n",
    "    print(f\"Successfully converted paragraph {i + 1}/{len(PARAGRAPHS)}\")\n",
    "    segment = AudioSegment.from_mp3(io.BytesIO(response.content))\n",
    "    segments.append(segment)\n",
    "    audio_out_path = os.path.join(os.getcwd(), f\"with_text_conditioning_{i}.wav\")\n",
    "    segment.export(audio_out_path, format=\"wav\")\n",
    "\n",
    "\n",
    "segment = segments[0]\n",
    "for new_segment in segments[1:]:\n",
    "    segment = segment + new_segment\n",
    "\n",
    "audio_out_path = os.path.join(os.getcwd(), \"with_text_conditioning.wav\")\n",
    "segment.export(audio_out_path, format=\"wav\")\n",
    "\n",
    "print(f\"Success! Wrote audio to {audio_out_path}\")\n"
   ]
  },
  {
   "cell_type": "code",
   "execution_count": null,
   "metadata": {},
   "outputs": [],
   "source": []
  }
 ],
 "metadata": {
  "kernelspec": {
   "display_name": "elevenlabs",
   "language": "python",
   "name": "python3"
  },
  "language_info": {
   "codemirror_mode": {
    "name": "ipython",
    "version": 3
   },
   "file_extension": ".py",
   "mimetype": "text/x-python",
   "name": "python",
   "nbconvert_exporter": "python",
   "pygments_lexer": "ipython3",
   "version": "3.11.11"
  }
 },
 "nbformat": 4,
 "nbformat_minor": 2
}
